{
 "cells": [
  {
   "cell_type": "markdown",
   "metadata": {},
   "source": [
    "# Load and analyze flights data"
   ]
  },
  {
   "cell_type": "markdown",
   "metadata": {},
   "source": [
    "#### EUROCONTROL R&D archive data & information can be found here: https://www.eurocontrol.int/dashboard/rnd-data-archive"
   ]
  },
  {
   "cell_type": "markdown",
   "metadata": {},
   "source": [
    "#### *The results presented in this notebook are not relevant as the data sample is just a tiny extraction of a data archive. The purpose is only to show how to use pandas functions to get such information*"
   ]
  },
  {
   "cell_type": "code",
   "execution_count": 1,
   "metadata": {},
   "outputs": [],
   "source": [
    "%load_ext lab_black\n",
    "%matplotlib inline"
   ]
  },
  {
   "cell_type": "code",
   "execution_count": 2,
   "metadata": {},
   "outputs": [],
   "source": [
    "import pandas as pd\n",
    "import matplotlib.pyplot as plt\n",
    "from archive import Archive"
   ]
  },
  {
   "cell_type": "markdown",
   "metadata": {},
   "source": [
    "#### <br> Local path of your data archive (zip file)"
   ]
  },
  {
   "cell_type": "code",
   "execution_count": 3,
   "metadata": {},
   "outputs": [],
   "source": [
    "archive_path = \"mysample.zip\""
   ]
  },
  {
   "cell_type": "markdown",
   "metadata": {},
   "source": [
    "#### Load archive"
   ]
  },
  {
   "cell_type": "code",
   "execution_count": 4,
   "metadata": {},
   "outputs": [
    {
     "name": "stdout",
     "output_type": "stream",
     "text": [
      "Loading archive:  mysample\n",
      "Flights_20181201_20181231.csv.gz loaded\n",
      "Flight_Points_Filed_20181201_20181231.csv.gz loaded\n",
      "Flight_Points_Actual_20181201_20181231.csv.gz loaded\n",
      "Flight_FIRs_Filed_20181201_20181231.csv.gz loaded\n",
      "Flight_FIRs_Actual_20181201_20181231.csv.gz loaded\n",
      "Flight_AUAs_Filed_20181201_20181231.csv.gz loaded\n",
      "Flight_AUAs_Actual_20181201_20181231.csv.gz loaded\n",
      "Route_1812.csv.gz loaded\n",
      "FIR_1812.csv.gz loaded\n"
     ]
    }
   ],
   "source": [
    "archive = Archive(archive_path)"
   ]
  },
  {
   "cell_type": "markdown",
   "metadata": {},
   "source": [
    "#### If you want to use other data than flights, consider filtering the archive as shown in demo_archive_filtering"
   ]
  },
  {
   "cell_type": "markdown",
   "metadata": {},
   "source": [
    "#### Let's focus here on flights data"
   ]
  },
  {
   "cell_type": "code",
   "execution_count": 5,
   "metadata": {},
   "outputs": [
    {
     "data": {
      "text/html": [
       "<div>\n",
       "<style scoped>\n",
       "    .dataframe tbody tr th:only-of-type {\n",
       "        vertical-align: middle;\n",
       "    }\n",
       "\n",
       "    .dataframe tbody tr th {\n",
       "        vertical-align: top;\n",
       "    }\n",
       "\n",
       "    .dataframe thead th {\n",
       "        text-align: right;\n",
       "    }\n",
       "</style>\n",
       "<table border=\"1\" class=\"dataframe\">\n",
       "  <thead>\n",
       "    <tr style=\"text-align: right;\">\n",
       "      <th></th>\n",
       "      <th>ECTRL ID</th>\n",
       "      <th>ADEP</th>\n",
       "      <th>ADEP Latitude</th>\n",
       "      <th>ADEP Longitude</th>\n",
       "      <th>ADES</th>\n",
       "      <th>ADES Latitude</th>\n",
       "      <th>ADES Longitude</th>\n",
       "      <th>FILED OFF BLOCK TIME</th>\n",
       "      <th>FILED ARRIVAL TIME</th>\n",
       "      <th>ACTUAL OFF BLOCK TIME</th>\n",
       "      <th>ACTUAL ARRIVAL TIME</th>\n",
       "      <th>AC Type</th>\n",
       "      <th>AC Operator</th>\n",
       "      <th>AC Registration</th>\n",
       "      <th>ICAO Flight Type</th>\n",
       "      <th>STATFOR Market Segment</th>\n",
       "      <th>Requested FL</th>\n",
       "      <th>Actual Distance Flown (nm)</th>\n",
       "    </tr>\n",
       "  </thead>\n",
       "  <tbody>\n",
       "    <tr>\n",
       "      <th>0</th>\n",
       "      <td>226004653</td>\n",
       "      <td>KATL</td>\n",
       "      <td>33.63333</td>\n",
       "      <td>-84.43333</td>\n",
       "      <td>EGCC</td>\n",
       "      <td>53.35389</td>\n",
       "      <td>-2.27500</td>\n",
       "      <td>2018-12-22 23:00:00</td>\n",
       "      <td>2018-12-23 06:17:12</td>\n",
       "      <td>2018-12-23 00:23:00</td>\n",
       "      <td>2018-12-23 07:30:58</td>\n",
       "      <td>B744</td>\n",
       "      <td>VIR</td>\n",
       "      <td>GVROS</td>\n",
       "      <td>S</td>\n",
       "      <td>Traditional Scheduled</td>\n",
       "      <td>350.0</td>\n",
       "      <td>3597</td>\n",
       "    </tr>\n",
       "    <tr>\n",
       "      <th>1</th>\n",
       "      <td>226004729</td>\n",
       "      <td>TFFF</td>\n",
       "      <td>14.58333</td>\n",
       "      <td>-61.00000</td>\n",
       "      <td>LFPO</td>\n",
       "      <td>48.72333</td>\n",
       "      <td>2.37944</td>\n",
       "      <td>2018-12-22 23:10:00</td>\n",
       "      <td>2018-12-23 07:06:21</td>\n",
       "      <td>2018-12-23 00:48:25</td>\n",
       "      <td>2018-12-23 08:51:15</td>\n",
       "      <td>B77W</td>\n",
       "      <td>AFR</td>\n",
       "      <td>FGSQR</td>\n",
       "      <td>S</td>\n",
       "      <td>Traditional Scheduled</td>\n",
       "      <td>310.0</td>\n",
       "      <td>3803</td>\n",
       "    </tr>\n",
       "    <tr>\n",
       "      <th>2</th>\n",
       "      <td>226004794</td>\n",
       "      <td>KEWR</td>\n",
       "      <td>40.69667</td>\n",
       "      <td>-74.16833</td>\n",
       "      <td>EDDF</td>\n",
       "      <td>50.03333</td>\n",
       "      <td>8.57056</td>\n",
       "      <td>2018-12-22 23:20:00</td>\n",
       "      <td>2018-12-23 06:18:31</td>\n",
       "      <td>2018-12-23 00:08:00</td>\n",
       "      <td>2018-12-23 07:11:05</td>\n",
       "      <td>B748</td>\n",
       "      <td>DLH</td>\n",
       "      <td>DABYG</td>\n",
       "      <td>S</td>\n",
       "      <td>Traditional Scheduled</td>\n",
       "      <td>350.0</td>\n",
       "      <td>3504</td>\n",
       "    </tr>\n",
       "    <tr>\n",
       "      <th>3</th>\n",
       "      <td>226004812</td>\n",
       "      <td>URKK</td>\n",
       "      <td>45.03472</td>\n",
       "      <td>39.17000</td>\n",
       "      <td>OMDB</td>\n",
       "      <td>25.24917</td>\n",
       "      <td>55.36000</td>\n",
       "      <td>2018-12-22 23:25:00</td>\n",
       "      <td>2018-12-23 03:05:20</td>\n",
       "      <td>2018-12-23 00:05:00</td>\n",
       "      <td>2018-12-23 03:44:17</td>\n",
       "      <td>B738</td>\n",
       "      <td>ZZZ</td>\n",
       "      <td>A6FEU</td>\n",
       "      <td>S</td>\n",
       "      <td>Lowcost</td>\n",
       "      <td>290.0</td>\n",
       "      <td>1554</td>\n",
       "    </tr>\n",
       "    <tr>\n",
       "      <th>4</th>\n",
       "      <td>226004814</td>\n",
       "      <td>LFPG</td>\n",
       "      <td>49.00972</td>\n",
       "      <td>2.54778</td>\n",
       "      <td>VIDP</td>\n",
       "      <td>28.56861</td>\n",
       "      <td>77.11333</td>\n",
       "      <td>2018-12-22 23:25:00</td>\n",
       "      <td>2018-12-23 07:22:31</td>\n",
       "      <td>2018-12-23 00:04:00</td>\n",
       "      <td>2018-12-23 07:38:23</td>\n",
       "      <td>B77L</td>\n",
       "      <td>FDX</td>\n",
       "      <td>N868FD</td>\n",
       "      <td>S</td>\n",
       "      <td>All-Cargo</td>\n",
       "      <td>340.0</td>\n",
       "      <td>3784</td>\n",
       "    </tr>\n",
       "  </tbody>\n",
       "</table>\n",
       "</div>"
      ],
      "text/plain": [
       "    ECTRL ID  ADEP  ADEP Latitude  ADEP Longitude  ADES  ADES Latitude  \\\n",
       "0  226004653  KATL       33.63333       -84.43333  EGCC       53.35389   \n",
       "1  226004729  TFFF       14.58333       -61.00000  LFPO       48.72333   \n",
       "2  226004794  KEWR       40.69667       -74.16833  EDDF       50.03333   \n",
       "3  226004812  URKK       45.03472        39.17000  OMDB       25.24917   \n",
       "4  226004814  LFPG       49.00972         2.54778  VIDP       28.56861   \n",
       "\n",
       "   ADES Longitude FILED OFF BLOCK TIME  FILED ARRIVAL TIME  \\\n",
       "0        -2.27500  2018-12-22 23:00:00 2018-12-23 06:17:12   \n",
       "1         2.37944  2018-12-22 23:10:00 2018-12-23 07:06:21   \n",
       "2         8.57056  2018-12-22 23:20:00 2018-12-23 06:18:31   \n",
       "3        55.36000  2018-12-22 23:25:00 2018-12-23 03:05:20   \n",
       "4        77.11333  2018-12-22 23:25:00 2018-12-23 07:22:31   \n",
       "\n",
       "  ACTUAL OFF BLOCK TIME ACTUAL ARRIVAL TIME AC Type AC Operator  \\\n",
       "0   2018-12-23 00:23:00 2018-12-23 07:30:58    B744         VIR   \n",
       "1   2018-12-23 00:48:25 2018-12-23 08:51:15    B77W         AFR   \n",
       "2   2018-12-23 00:08:00 2018-12-23 07:11:05    B748         DLH   \n",
       "3   2018-12-23 00:05:00 2018-12-23 03:44:17    B738         ZZZ   \n",
       "4   2018-12-23 00:04:00 2018-12-23 07:38:23    B77L         FDX   \n",
       "\n",
       "  AC Registration ICAO Flight Type STATFOR Market Segment  Requested FL  \\\n",
       "0           GVROS                S  Traditional Scheduled         350.0   \n",
       "1           FGSQR                S  Traditional Scheduled         310.0   \n",
       "2           DABYG                S  Traditional Scheduled         350.0   \n",
       "3           A6FEU                S                Lowcost         290.0   \n",
       "4          N868FD                S              All-Cargo         340.0   \n",
       "\n",
       "   Actual Distance Flown (nm)  \n",
       "0                        3597  \n",
       "1                        3803  \n",
       "2                        3504  \n",
       "3                        1554  \n",
       "4                        3784  "
      ]
     },
     "execution_count": 5,
     "metadata": {},
     "output_type": "execute_result"
    }
   ],
   "source": [
    "archive.flights_df.head()"
   ]
  },
  {
   "cell_type": "markdown",
   "metadata": {},
   "source": [
    "#### Let's analyze flights from LFPG airport"
   ]
  },
  {
   "cell_type": "code",
   "execution_count": 6,
   "metadata": {},
   "outputs": [
    {
     "data": {
      "text/html": [
       "<div>\n",
       "<style scoped>\n",
       "    .dataframe tbody tr th:only-of-type {\n",
       "        vertical-align: middle;\n",
       "    }\n",
       "\n",
       "    .dataframe tbody tr th {\n",
       "        vertical-align: top;\n",
       "    }\n",
       "\n",
       "    .dataframe thead th {\n",
       "        text-align: right;\n",
       "    }\n",
       "</style>\n",
       "<table border=\"1\" class=\"dataframe\">\n",
       "  <thead>\n",
       "    <tr style=\"text-align: right;\">\n",
       "      <th></th>\n",
       "      <th>ECTRL ID</th>\n",
       "      <th>ADEP</th>\n",
       "      <th>ADEP Latitude</th>\n",
       "      <th>ADEP Longitude</th>\n",
       "      <th>ADES</th>\n",
       "      <th>ADES Latitude</th>\n",
       "      <th>ADES Longitude</th>\n",
       "      <th>FILED OFF BLOCK TIME</th>\n",
       "      <th>FILED ARRIVAL TIME</th>\n",
       "      <th>ACTUAL OFF BLOCK TIME</th>\n",
       "      <th>ACTUAL ARRIVAL TIME</th>\n",
       "      <th>AC Type</th>\n",
       "      <th>AC Operator</th>\n",
       "      <th>AC Registration</th>\n",
       "      <th>ICAO Flight Type</th>\n",
       "      <th>STATFOR Market Segment</th>\n",
       "      <th>Requested FL</th>\n",
       "      <th>Actual Distance Flown (nm)</th>\n",
       "    </tr>\n",
       "  </thead>\n",
       "  <tbody>\n",
       "    <tr>\n",
       "      <th>4</th>\n",
       "      <td>226004814</td>\n",
       "      <td>LFPG</td>\n",
       "      <td>49.00972</td>\n",
       "      <td>2.54778</td>\n",
       "      <td>VIDP</td>\n",
       "      <td>28.56861</td>\n",
       "      <td>77.11333</td>\n",
       "      <td>2018-12-22 23:25:00</td>\n",
       "      <td>2018-12-23 07:22:31</td>\n",
       "      <td>2018-12-23 00:04:00</td>\n",
       "      <td>2018-12-23 07:38:23</td>\n",
       "      <td>B77L</td>\n",
       "      <td>FDX</td>\n",
       "      <td>N868FD</td>\n",
       "      <td>S</td>\n",
       "      <td>All-Cargo</td>\n",
       "      <td>340.0</td>\n",
       "      <td>3784</td>\n",
       "    </tr>\n",
       "    <tr>\n",
       "      <th>52</th>\n",
       "      <td>226005060</td>\n",
       "      <td>LFPG</td>\n",
       "      <td>49.00972</td>\n",
       "      <td>2.54778</td>\n",
       "      <td>LIMC</td>\n",
       "      <td>45.63000</td>\n",
       "      <td>8.72306</td>\n",
       "      <td>2018-12-23 00:01:00</td>\n",
       "      <td>2018-12-23 01:34:38</td>\n",
       "      <td>2018-12-23 00:10:00</td>\n",
       "      <td>2018-12-23 01:29:44</td>\n",
       "      <td>B77L</td>\n",
       "      <td>FDX</td>\n",
       "      <td>N869FD</td>\n",
       "      <td>S</td>\n",
       "      <td>All-Cargo</td>\n",
       "      <td>350.0</td>\n",
       "      <td>376</td>\n",
       "    </tr>\n",
       "    <tr>\n",
       "      <th>54</th>\n",
       "      <td>226005062</td>\n",
       "      <td>LFPG</td>\n",
       "      <td>49.00972</td>\n",
       "      <td>2.54778</td>\n",
       "      <td>EDDK</td>\n",
       "      <td>50.86583</td>\n",
       "      <td>7.14278</td>\n",
       "      <td>2018-12-23 00:01:00</td>\n",
       "      <td>2018-12-23 01:06:07</td>\n",
       "      <td>2018-12-23 00:09:00</td>\n",
       "      <td>2018-12-23 01:16:32</td>\n",
       "      <td>B77L</td>\n",
       "      <td>FDX</td>\n",
       "      <td>N842FD</td>\n",
       "      <td>S</td>\n",
       "      <td>All-Cargo</td>\n",
       "      <td>220.0</td>\n",
       "      <td>255</td>\n",
       "    </tr>\n",
       "    <tr>\n",
       "      <th>72</th>\n",
       "      <td>226005086</td>\n",
       "      <td>LFPG</td>\n",
       "      <td>49.00972</td>\n",
       "      <td>2.54778</td>\n",
       "      <td>LEMD</td>\n",
       "      <td>40.47222</td>\n",
       "      <td>-3.56083</td>\n",
       "      <td>2018-12-23 00:07:00</td>\n",
       "      <td>2018-12-23 02:08:29</td>\n",
       "      <td>2018-12-23 00:20:00</td>\n",
       "      <td>2018-12-23 02:13:41</td>\n",
       "      <td>A306</td>\n",
       "      <td>FDX</td>\n",
       "      <td>N658FE</td>\n",
       "      <td>S</td>\n",
       "      <td>All-Cargo</td>\n",
       "      <td>330.0</td>\n",
       "      <td>605</td>\n",
       "    </tr>\n",
       "    <tr>\n",
       "      <th>250</th>\n",
       "      <td>226005279</td>\n",
       "      <td>LFPG</td>\n",
       "      <td>49.00972</td>\n",
       "      <td>2.54778</td>\n",
       "      <td>RKSI</td>\n",
       "      <td>37.46250</td>\n",
       "      <td>126.43917</td>\n",
       "      <td>2018-12-23 01:00:00</td>\n",
       "      <td>2018-12-23 11:47:33</td>\n",
       "      <td>2018-12-23 00:12:00</td>\n",
       "      <td>2018-12-23 10:49:37</td>\n",
       "      <td>B77L</td>\n",
       "      <td>KAL</td>\n",
       "      <td>HL8226</td>\n",
       "      <td>S</td>\n",
       "      <td>Traditional Scheduled</td>\n",
       "      <td>340.0</td>\n",
       "      <td>4996</td>\n",
       "    </tr>\n",
       "  </tbody>\n",
       "</table>\n",
       "</div>"
      ],
      "text/plain": [
       "      ECTRL ID  ADEP  ADEP Latitude  ADEP Longitude  ADES  ADES Latitude  \\\n",
       "4    226004814  LFPG       49.00972         2.54778  VIDP       28.56861   \n",
       "52   226005060  LFPG       49.00972         2.54778  LIMC       45.63000   \n",
       "54   226005062  LFPG       49.00972         2.54778  EDDK       50.86583   \n",
       "72   226005086  LFPG       49.00972         2.54778  LEMD       40.47222   \n",
       "250  226005279  LFPG       49.00972         2.54778  RKSI       37.46250   \n",
       "\n",
       "     ADES Longitude FILED OFF BLOCK TIME  FILED ARRIVAL TIME  \\\n",
       "4          77.11333  2018-12-22 23:25:00 2018-12-23 07:22:31   \n",
       "52          8.72306  2018-12-23 00:01:00 2018-12-23 01:34:38   \n",
       "54          7.14278  2018-12-23 00:01:00 2018-12-23 01:06:07   \n",
       "72         -3.56083  2018-12-23 00:07:00 2018-12-23 02:08:29   \n",
       "250       126.43917  2018-12-23 01:00:00 2018-12-23 11:47:33   \n",
       "\n",
       "    ACTUAL OFF BLOCK TIME ACTUAL ARRIVAL TIME AC Type AC Operator  \\\n",
       "4     2018-12-23 00:04:00 2018-12-23 07:38:23    B77L         FDX   \n",
       "52    2018-12-23 00:10:00 2018-12-23 01:29:44    B77L         FDX   \n",
       "54    2018-12-23 00:09:00 2018-12-23 01:16:32    B77L         FDX   \n",
       "72    2018-12-23 00:20:00 2018-12-23 02:13:41    A306         FDX   \n",
       "250   2018-12-23 00:12:00 2018-12-23 10:49:37    B77L         KAL   \n",
       "\n",
       "    AC Registration ICAO Flight Type STATFOR Market Segment  Requested FL  \\\n",
       "4            N868FD                S              All-Cargo         340.0   \n",
       "52           N869FD                S              All-Cargo         350.0   \n",
       "54           N842FD                S              All-Cargo         220.0   \n",
       "72           N658FE                S              All-Cargo         330.0   \n",
       "250          HL8226                S  Traditional Scheduled         340.0   \n",
       "\n",
       "     Actual Distance Flown (nm)  \n",
       "4                          3784  \n",
       "52                          376  \n",
       "54                          255  \n",
       "72                          605  \n",
       "250                        4996  "
      ]
     },
     "execution_count": 6,
     "metadata": {},
     "output_type": "execute_result"
    }
   ],
   "source": [
    "adep = \"LFPG\"  # CDG\n",
    "df = archive.flights_df.query(\"ADEP == @adep\")\n",
    "df.head()"
   ]
  },
  {
   "cell_type": "markdown",
   "metadata": {},
   "source": [
    "#### Analysis of the distance flown of the flights"
   ]
  },
  {
   "cell_type": "code",
   "execution_count": 7,
   "metadata": {},
   "outputs": [
    {
     "name": "stdout",
     "output_type": "stream",
     "text": [
      "Distance flown (nm): min=48 max=6396 mean=1447.0647058823529\n"
     ]
    }
   ],
   "source": [
    "dist_min = df[\"Actual Distance Flown (nm)\"].min()\n",
    "dist_max = df[\"Actual Distance Flown (nm)\"].max()\n",
    "dist_mean = df[\"Actual Distance Flown (nm)\"].mean()\n",
    "print(f\"Distance flown (nm): min={dist_min} max={dist_max} mean={dist_mean}\")"
   ]
  },
  {
   "cell_type": "markdown",
   "metadata": {},
   "source": [
    "#### Determine the destination of the longest flight"
   ]
  },
  {
   "cell_type": "code",
   "execution_count": 8,
   "metadata": {},
   "outputs": [
    {
     "data": {
      "text/plain": [
       "'SCEL'"
      ]
     },
     "execution_count": 8,
     "metadata": {},
     "output_type": "execute_result"
    }
   ],
   "source": [
    "df.loc[df[\"Actual Distance Flown (nm)\"].idxmax()].ADES"
   ]
  },
  {
   "cell_type": "markdown",
   "metadata": {},
   "source": [
    "#### Get the top ten destination airports"
   ]
  },
  {
   "cell_type": "code",
   "execution_count": 9,
   "metadata": {},
   "outputs": [
    {
     "data": {
      "text/plain": [
       "EGLL    28\n",
       "EHAM    22\n",
       "LEBL    22\n",
       "LIRF    22\n",
       "LEMD    21\n",
       "DAAG    21\n",
       "EDDF    19\n",
       "UUEE    18\n",
       "LFMN    17\n",
       "LSGG    17\n",
       "Name: ADES, dtype: int64"
      ]
     },
     "execution_count": 9,
     "metadata": {},
     "output_type": "execute_result"
    }
   ],
   "source": [
    "df[\"ADES\"].value_counts().nlargest(10)"
   ]
  },
  {
   "cell_type": "markdown",
   "metadata": {},
   "source": [
    "#### Plot the distribution of requested FL"
   ]
  },
  {
   "cell_type": "code",
   "execution_count": 10,
   "metadata": {},
   "outputs": [
    {
     "data": {
      "image/png": "[encoded data removed]",
      "text/plain": [
       "<Figure size 1080x576 with 1 Axes>"
      ]
     },
     "metadata": {
      "needs_background": "light"
     },
     "output_type": "display_data"
    }
   ],
   "source": [
    "df[\"Requested FL\"].value_counts().sort_index().plot(\n",
    "    figsize=(15, 8),\n",
    "    kind=\"bar\",\n",
    "    grid=True,\n",
    "    title=\"Sample requested FL distribution\",\n",
    "    color=\"lightsteelblue\",\n",
    ")\n",
    "plt.savefig(\"fldistribution.png\")\n",
    "plt.show()"
   ]
  },
  {
   "cell_type": "markdown",
   "metadata": {},
   "source": [
    "#### Plot top 20 aircraft types "
   ]
  },
  {
   "cell_type": "code",
   "execution_count": 11,
   "metadata": {},
   "outputs": [
    {
     "data": {
      "image/png": "[encoded data removed]",
      "text/plain": [
       "<Figure size 1080x576 with 1 Axes>"
      ]
     },
     "metadata": {
      "needs_background": "light"
     },
     "output_type": "display_data"
    }
   ],
   "source": [
    "df[\"AC Type\"].value_counts().nlargest(20).plot(\n",
    "    figsize=(15, 8),\n",
    "    kind=\"barh\",\n",
    "    grid=True,\n",
    "    title=\"Sample aircraft type distribution\",\n",
    "    color=\"khaki\",\n",
    ")\n",
    "plt.show()"
   ]
  },
  {
   "cell_type": "markdown",
   "metadata": {},
   "source": [
    "#### Market segment"
   ]
  },
  {
   "cell_type": "code",
   "execution_count": 12,
   "metadata": {},
   "outputs": [
    {
     "data": {
      "image/png": "[encoded data removed]",
      "text/plain": [
       "<Figure size 720x720 with 1 Axes>"
      ]
     },
     "metadata": {},
     "output_type": "display_data"
    }
   ],
   "source": [
    "ax = (\n",
    "    df[\"STATFOR Market Segment\"]\n",
    "    .value_counts()\n",
    "    .plot(\n",
    "        figsize=(10, 10),\n",
    "        kind=\"pie\",\n",
    "        title=\"Sample market segment distribution\",\n",
    "        colormap=\"Set3\",\n",
    "    )\n",
    ")\n",
    "ax.set_ylabel(\"\")\n",
    "plt.show()"
   ]
  }
 ],
 "metadata": {
  "kernelspec": {
   "display_name": "Python 3",
   "language": "python",
   "name": "python3"
  },
  "language_info": {
   "codemirror_mode": {
    "name": "ipython",
    "version": 3
   },
   "file_extension": ".py",
   "mimetype": "text/x-python",
   "name": "python",
   "nbconvert_exporter": "python",
   "pygments_lexer": "ipython3",
   "version": "3.8.5"
  }
 },
 "nbformat": 4,
 "nbformat_minor": 4
}
